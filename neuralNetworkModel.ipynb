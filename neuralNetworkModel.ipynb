{
 "cells": [
  {
   "cell_type": "markdown",
   "metadata": {},
   "source": [
    "Download dataset from: https://drive.google.com/uc?id=1-WZKE5xHw-3m_SL_PtOgwkzdFROIWqih"
   ]
  },
  {
   "cell_type": "code",
   "execution_count": 1,
   "metadata": {},
   "outputs": [],
   "source": [
    "import pandas as pd\n",
    "\n",
    "pd.set_option(\"max_colwidth\", 800)\n",
    "\n",
    "raw_df = pd.read_csv(\"data.csv\")\n",
    "raw_df = raw_df[raw_df[\"Score\"] > 0]\n",
    "df = raw_df[:10000]"
   ]
  },
  {
   "cell_type": "code",
   "execution_count": 2,
   "metadata": {},
   "outputs": [],
   "source": [
    "from sklearn.model_selection import train_test_split\n",
    "\n",
    "X_train, X_test, y_train, y_test = train_test_split(df[\"Text\"], df[\"Score\"], test_size=0.2)"
   ]
  },
  {
   "cell_type": "code",
   "execution_count": 3,
   "metadata": {},
   "outputs": [],
   "source": [
    "from tensorflow.keras.preprocessing.text import Tokenizer\n",
    "\n",
    "# VOCAB_SIZE is the number of unique words we want to use for the Tokenizer.\n",
    "VOCAB_SIZE = 10000\n",
    "\n",
    "# The Tokenizer class is used to vectorize the text data.\n",
    "tokenizer = Tokenizer(num_words=VOCAB_SIZE)\n",
    "tokenizer.fit_on_texts(X_train) # This step creates the word index.\n",
    "\n",
    "X_train_enc = tokenizer.texts_to_sequences(X_train)\n",
    "X_test_enc = tokenizer.texts_to_sequences(X_test)"
   ]
  },
  {
   "cell_type": "code",
   "execution_count": 4,
   "metadata": {},
   "outputs": [
    {
     "name": "stdout",
     "output_type": "stream",
     "text": [
      "Mean Length: 76.94125\n",
      "Standard Deviation: 74.01642418029596\n"
     ]
    },
    {
     "data": {
      "image/png": "[encoded data removed]",
      "text/plain": [
       "<Figure size 432x288 with 1 Axes>"
      ]
     },
     "metadata": {
      "needs_background": "light"
     },
     "output_type": "display_data"
    }
   ],
   "source": [
    "import numpy as np\n",
    "import matplotlib.pyplot as plt\n",
    "\n",
    "reviewLenghts = [len(x) for x in X_train_enc]\n",
    "mean = np.mean(reviewLenghts)\n",
    "std = np.std(reviewLenghts)\n",
    "print(\"Mean Length:\", mean)\n",
    "print(\"Standard Deviation:\", std)\n",
    "\n",
    "_ = plt.hist(reviewLenghts, bins=25)"
   ]
  },
  {
   "cell_type": "markdown",
   "metadata": {},
   "source": [
    "As seen from the graph above, all documents don't have the same number of tokens. To make the number of tokens same, we pad the vectors with zeros to `MAX_LEN` size and also truncate any document having more than `MAX_LEN` tokens to length of `MAX_LEN`"
   ]
  },
  {
   "cell_type": "code",
   "execution_count": 5,
   "metadata": {},
   "outputs": [],
   "source": [
    "from tensorflow.keras.preprocessing.sequence import pad_sequences\n",
    "\n",
    "MAX_LEN = np.ceil(mean + 2 * std).astype(int)\n",
    "\n",
    "X_train_enc = pad_sequences(X_train_enc, maxlen=MAX_LEN , padding=\"post\")\n",
    "X_test_enc = pad_sequences(X_test_enc, maxlen=MAX_LEN, padding=\"post\")"
   ]
  },
  {
   "cell_type": "markdown",
   "metadata": {},
   "source": [
    "The output of a neural network doesn't give us the number of stars the review got. Instead it gives a probability distribution of the stars. The correct prediction is the one with the highest probability.<br>\n",
    "Hence, we'll transform our discrete data of 1-5 star rating into a vector of classes representing the probabilty that the rating is n-stars. Since our data is dicrete, the vector of classes is binary (either 1 or 0).<br>\n",
    "`to_categorical` converts a class vector (integers from 0 to nb_classes-1) to binary class matrix.<br>\n",
    "It converts classes to an array of 0s and 1 where only the correct category is a 1 and the rest are 0s."
   ]
  },
  {
   "cell_type": "code",
   "execution_count": 6,
   "metadata": {},
   "outputs": [
    {
     "name": "stdout",
     "output_type": "stream",
     "text": [
      "5 [0. 0. 0. 0. 0. 1.]\n",
      "4 [0. 0. 0. 0. 1. 0.]\n",
      "3 [0. 0. 0. 1. 0. 0.]\n",
      "5 [0. 0. 0. 0. 0. 1.]\n",
      "5 [0. 0. 0. 0. 0. 1.]\n"
     ]
    }
   ],
   "source": [
    "from tensorflow.keras.utils import to_categorical\n",
    "\n",
    "y_train_enc = to_categorical(y_train)\n",
    "y_test_enc = to_categorical(y_test)\n",
    "\n",
    "for i in range(5):\n",
    "    print(y_train.iloc[i], y_train_enc[i])"
   ]
  },
  {
   "cell_type": "markdown",
   "metadata": {},
   "source": [
    "## Word Embedding\n",
    "![](https://pbs.twimg.com/media/DKWbi9nXoAAd_un.jpg)<br>\n",
    "Word embeddings are a class of techniques where individual words are represented as real-valued vectors in a predefined vector space. This allows words that are used in similar ways to result in having similar representations, naturally capturing their meaning.<br>\n",
    "In the given picture, \n"
   ]
  },
  {
   "cell_type": "markdown",
   "metadata": {},
   "source": [
    "In the given picture, 4 words `King`, `Queen`, `Man`, `Woman` are represented as vectors in a 2-dimensional vector space. Here `EMBEDDING_DIMENSION = 2`. The vectors can be related as `King` - `Man` + `Woman` = `Queen`."
   ]
  },
  {
   "cell_type": "markdown",
   "metadata": {},
   "source": [
    "## Creating the Neural Network\n",
    "1. The `Sequential` model is a linear stack of layers of neurons.\n",
    "2. The `Embedding` layer  enables us to convert each word into a fixed length vector of defined size which is used in word embedding.\n",
    "3. The `Conv1D` (Convolution 1D) layer creates a convolution kernel that is convolved with the layer input over a single spatial (or temporal) dimension to produce a tensor of outputs. This enables the model to take the context in which the word is used into account.\n",
    "4. The `GlobalMaxPool1D` (Global Max Pooling 1D) layer is used to reduce the dimensionality of the feature maps output by the `Conv1D` layer. The `GlobalMaxPool1D` takes a 2-dimensional tensor of size `input_size x input_channels` and computes the maximum of all the `input_size` values for each of the `input_channels`.\n",
    "5. The `Dense` layer is simple layer of neurons in which each neuron receives input from all the neurons of previous layer, thus called as dense.\n",
    "6. The `Dropout` layer randomly sets input units to 0 with a frequency of `rate` at each step during training time, which helps prevent overfitting."
   ]
  },
  {
   "cell_type": "markdown",
   "metadata": {},
   "source": [
    "## Activation Functions\n",
    "1. Rectified Linear Units, or ReLU, are a type of activation function that are linear in the positive dimension, but zero in the negative dimension. <br>\n",
    "`R(z) = max(0, z)`<br>\n",
    "![](https://miro.medium.com/max/357/1*oePAhrm74RNnNEolprmTaQ.png)\n",
    "2. The Softmax activation function calculates the relative probabilities. It uses all values in the `Dense` layer and it is used as the activation function of the output layer. <br>\n",
    "![](https://www.gstatic.com/education/formulas2/443397389/en/softmax_function.svg)"
   ]
  },
  {
   "cell_type": "code",
   "execution_count": 7,
   "metadata": {},
   "outputs": [
    {
     "name": "stdout",
     "output_type": "stream",
     "text": [
      "Model: \"sequential\"\n",
      "_________________________________________________________________\n",
      " Layer (type)                Output Shape              Param #   \n",
      "=================================================================\n",
      " embedding (Embedding)       (None, 225, 50)           500000    \n",
      "                                                                 \n",
      " conv1d (Conv1D)             (None, 222, 50)           10050     \n",
      "                                                                 \n",
      " global_max_pooling1d (Globa  (None, 50)               0         \n",
      " lMaxPooling1D)                                                  \n",
      "                                                                 \n",
      " dense (Dense)               (None, 6)                 306       \n",
      "                                                                 \n",
      "=================================================================\n",
      "Total params: 510,356\n",
      "Trainable params: 510,356\n",
      "Non-trainable params: 0\n",
      "_________________________________________________________________\n"
     ]
    }
   ],
   "source": [
    "from tensorflow.keras import Sequential\n",
    "from tensorflow.keras.layers import Embedding, Dense, GlobalMaxPool1D, Conv1D\n",
    "\n",
    "EMBEDDING_DIMENSION = 50\n",
    "\n",
    "model = Sequential()\n",
    "model.add(Embedding(VOCAB_SIZE, EMBEDDING_DIMENSION, input_length=MAX_LEN))\n",
    "model.add(Conv1D(50, 4, 1, activation='relu'))\n",
    "model.add(GlobalMaxPool1D())\n",
    "model.add(Dense(6, activation='softmax'))\n",
    "\n",
    "model.compile(optimizer='adam', loss='categorical_crossentropy', metrics=['accuracy'])\n",
    "\n",
    "model.summary()"
   ]
  },
  {
   "cell_type": "code",
   "execution_count": 8,
   "metadata": {},
   "outputs": [
    {
     "name": "stdout",
     "output_type": "stream",
     "text": [
      "Epoch 1/30\n",
      "113/113 [==============================] - 7s 37ms/step - loss: 1.3183 - accuracy: 0.6057 - val_loss: 1.1353 - val_accuracy: 0.6338\n",
      "Epoch 2/30\n",
      "113/113 [==============================] - 3s 22ms/step - loss: 1.0801 - accuracy: 0.6160 - val_loss: 1.0169 - val_accuracy: 0.6363\n",
      "Epoch 3/30\n",
      "113/113 [==============================] - 2s 22ms/step - loss: 0.9449 - accuracy: 0.6485 - val_loss: 0.9396 - val_accuracy: 0.6587\n",
      "Epoch 4/30\n",
      "113/113 [==============================] - 3s 23ms/step - loss: 0.8090 - accuracy: 0.7068 - val_loss: 0.8819 - val_accuracy: 0.6888\n",
      "Epoch 5/30\n",
      "113/113 [==============================] - 2s 22ms/step - loss: 0.6617 - accuracy: 0.7696 - val_loss: 0.8508 - val_accuracy: 0.6975\n",
      "Epoch 6/30\n",
      "113/113 [==============================] - 2s 22ms/step - loss: 0.5176 - accuracy: 0.8381 - val_loss: 0.8464 - val_accuracy: 0.7013\n",
      "Epoch 7/30\n",
      "113/113 [==============================] - 3s 22ms/step - loss: 0.3839 - accuracy: 0.9058 - val_loss: 0.8658 - val_accuracy: 0.7025\n",
      "Epoch 8/30\n",
      "113/113 [==============================] - 2s 22ms/step - loss: 0.2734 - accuracy: 0.9485 - val_loss: 0.8879 - val_accuracy: 0.7013\n",
      "Epoch 9/30\n",
      "113/113 [==============================] - 2s 22ms/step - loss: 0.1878 - accuracy: 0.9725 - val_loss: 0.9162 - val_accuracy: 0.6963\n",
      "Epoch 10/30\n",
      "113/113 [==============================] - 3s 23ms/step - loss: 0.1274 - accuracy: 0.9862 - val_loss: 0.9558 - val_accuracy: 0.6988\n",
      "Epoch 11/30\n",
      "113/113 [==============================] - 3s 22ms/step - loss: 0.0860 - accuracy: 0.9937 - val_loss: 0.9830 - val_accuracy: 0.6900\n",
      "Epoch 12/30\n",
      "113/113 [==============================] - 2s 22ms/step - loss: 0.0591 - accuracy: 0.9968 - val_loss: 1.0341 - val_accuracy: 0.7000\n",
      "Epoch 13/30\n",
      "113/113 [==============================] - 3s 23ms/step - loss: 0.0419 - accuracy: 0.9983 - val_loss: 1.0655 - val_accuracy: 0.6925\n",
      "Epoch 14/30\n",
      "113/113 [==============================] - 3s 23ms/step - loss: 0.0309 - accuracy: 0.9985 - val_loss: 1.0991 - val_accuracy: 0.6913\n",
      "Epoch 15/30\n",
      "113/113 [==============================] - 2s 22ms/step - loss: 0.0233 - accuracy: 0.9992 - val_loss: 1.1265 - val_accuracy: 0.6913\n",
      "Epoch 16/30\n",
      "113/113 [==============================] - 2s 22ms/step - loss: 0.0181 - accuracy: 0.9993 - val_loss: 1.1548 - val_accuracy: 0.6963\n",
      "Epoch 17/30\n",
      "113/113 [==============================] - 3s 23ms/step - loss: 0.0144 - accuracy: 0.9996 - val_loss: 1.1808 - val_accuracy: 0.6963\n",
      "Epoch 18/30\n",
      "113/113 [==============================] - 2s 22ms/step - loss: 0.0115 - accuracy: 0.9997 - val_loss: 1.2014 - val_accuracy: 0.6950\n",
      "Epoch 19/30\n",
      "113/113 [==============================] - 8s 71ms/step - loss: 0.0096 - accuracy: 0.9996 - val_loss: 1.2304 - val_accuracy: 0.6988\n",
      "Epoch 20/30\n",
      "113/113 [==============================] - 15s 132ms/step - loss: 0.0082 - accuracy: 0.9996 - val_loss: 1.2534 - val_accuracy: 0.6963\n",
      "Epoch 21/30\n",
      "113/113 [==============================] - 15s 131ms/step - loss: 0.0066 - accuracy: 0.9999 - val_loss: 1.2805 - val_accuracy: 0.6963\n",
      "Epoch 22/30\n",
      "113/113 [==============================] - 16s 139ms/step - loss: 0.0060 - accuracy: 0.9997 - val_loss: 1.2948 - val_accuracy: 0.6963\n",
      "Epoch 23/30\n",
      "113/113 [==============================] - 14s 125ms/step - loss: 0.0050 - accuracy: 0.9999 - val_loss: 1.3168 - val_accuracy: 0.7038\n",
      "Epoch 24/30\n",
      "113/113 [==============================] - 14s 121ms/step - loss: 0.0043 - accuracy: 0.9999 - val_loss: 1.3334 - val_accuracy: 0.6963\n",
      "Epoch 25/30\n",
      "113/113 [==============================] - 16s 138ms/step - loss: 0.0038 - accuracy: 0.9999 - val_loss: 1.3527 - val_accuracy: 0.7013\n",
      "Epoch 26/30\n",
      "113/113 [==============================] - 19s 164ms/step - loss: 0.0036 - accuracy: 0.9997 - val_loss: 1.3724 - val_accuracy: 0.7000\n",
      "Epoch 27/30\n",
      "113/113 [==============================] - 13s 113ms/step - loss: 0.0030 - accuracy: 0.9999 - val_loss: 1.3776 - val_accuracy: 0.6975\n",
      "Epoch 28/30\n",
      "113/113 [==============================] - 13s 118ms/step - loss: 0.0029 - accuracy: 0.9997 - val_loss: 1.3976 - val_accuracy: 0.6975\n",
      "Epoch 29/30\n",
      "113/113 [==============================] - 14s 122ms/step - loss: 0.0024 - accuracy: 0.9999 - val_loss: 1.4228 - val_accuracy: 0.7013\n",
      "Epoch 30/30\n",
      "113/113 [==============================] - 15s 135ms/step - loss: 0.0022 - accuracy: 0.9999 - val_loss: 1.4287 - val_accuracy: 0.7013\n"
     ]
    }
   ],
   "source": [
    "history = model.fit(\n",
    "    X_train_enc,\n",
    "    y_train_enc,\n",
    "    epochs=30,\n",
    "    batch_size=64,\n",
    "    validation_split=0.1,\n",
    ")"
   ]
  },
  {
   "cell_type": "code",
   "execution_count": 9,
   "metadata": {},
   "outputs": [
    {
     "data": {
      "image/png": "[encoded data removed]",
      "text/plain": [
       "<Figure size 432x288 with 1 Axes>"
      ]
     },
     "metadata": {
      "needs_background": "light"
     },
     "output_type": "display_data"
    }
   ],
   "source": [
    "plt.plot(history.history['loss'])\n",
    "plt.plot(history.history['val_loss'])\n",
    "plt.legend(['train', 'validation'])\n",
    "plt.show()"
   ]
  },
  {
   "cell_type": "markdown",
   "metadata": {},
   "source": [
    "## Overfitting\n",
    "From the above graph, we can see that after 6-8 epochs, the model starts performing worse on the validation sets even though it performs great with almost 100% accuracy in the training sets. This is called overfitting. Overfitting occurs when the model fits exactly against it training data. When this happens, it cannot perform accurately with unseen data, defeating its purpose.<br>\n",
    "Overfitting can be prevented by adding a `Dropout` layer or by running the trainig for fewer epochs."
   ]
  },
  {
   "cell_type": "code",
   "execution_count": 10,
   "metadata": {},
   "outputs": [],
   "source": [
    "X_train, X_test, y_train, y_test = train_test_split(raw_df['Text'], raw_df['Score'])\n",
    "VOCAB_SIZE = 10000\n",
    "\n",
    "tokenizer = Tokenizer(num_words=VOCAB_SIZE)\n",
    "tokenizer.fit_on_texts(X_train)\n",
    "\n",
    "X_train_enc = tokenizer.texts_to_sequences(X_train)\n",
    "X_test_enc = tokenizer.texts_to_sequences(X_test)\n",
    "\n",
    "X_train_enc = pad_sequences(X_train_enc, maxlen=MAX_LEN, padding=\"post\")\n",
    "X_test_enc = pad_sequences(X_test_enc, maxlen=MAX_LEN, padding=\"post\")\n",
    "\n",
    "np.mean([len(t) for t in X_train_enc])\n",
    "\n",
    "y_train_enc = to_categorical(y_train)\n",
    "y_test_enc = to_categorical(y_test)"
   ]
  },
  {
   "cell_type": "code",
   "execution_count": 20,
   "metadata": {},
   "outputs": [
    {
     "name": "stdout",
     "output_type": "stream",
     "text": [
      "Model: \"sequential_2\"\n",
      "_________________________________________________________________\n",
      " Layer (type)                Output Shape              Param #   \n",
      "=================================================================\n",
      " embedding_2 (Embedding)     (None, 225, 50)           500000    \n",
      "                                                                 \n",
      " conv1d_2 (Conv1D)           (None, 222, 50)           10050     \n",
      "                                                                 \n",
      " dropout_1 (Dropout)         (None, 222, 50)           0         \n",
      "                                                                 \n",
      " global_max_pooling1d_2 (Glo  (None, 50)               0         \n",
      " balMaxPooling1D)                                                \n",
      "                                                                 \n",
      " dense_2 (Dense)             (None, 6)                 306       \n",
      "                                                                 \n",
      "=================================================================\n",
      "Total params: 510,356\n",
      "Trainable params: 510,356\n",
      "Non-trainable params: 0\n",
      "_________________________________________________________________\n"
     ]
    }
   ],
   "source": [
    "from tensorflow.keras.layers import Dropout\n",
    "\n",
    "EMBEDDING_DIMENSION = 50\n",
    "\n",
    "model = Sequential()\n",
    "model.add(Embedding(VOCAB_SIZE, EMBEDDING_DIMENSION, input_length=MAX_LEN))\n",
    "model.add(Conv1D(50, 4, 1, activation='relu'))\n",
    "model.add(Dropout(rate=0.5))\n",
    "model.add(GlobalMaxPool1D())\n",
    "model.add(Dense(6, activation='softmax'))\n",
    "\n",
    "model.compile(optimizer='adam', loss='categorical_crossentropy', metrics=['accuracy'])\n",
    "\n",
    "model.summary()"
   ]
  },
  {
   "cell_type": "code",
   "execution_count": 21,
   "metadata": {},
   "outputs": [
    {
     "name": "stdout",
     "output_type": "stream",
     "text": [
      "Epoch 1/10\n",
      "94/94 [==============================] - 216s 2s/step - loss: 1.1602 - accuracy: 0.6370 - val_loss: 1.1001 - val_accuracy: 0.6594\n",
      "Epoch 2/10\n",
      "94/94 [==============================] - 145s 2s/step - loss: 0.8264 - accuracy: 0.6956 - val_loss: 0.8855 - val_accuracy: 0.7203\n",
      "Epoch 3/10\n",
      "94/94 [==============================] - 145s 2s/step - loss: 0.7302 - accuracy: 0.7273 - val_loss: 0.8324 - val_accuracy: 0.7388\n",
      "Epoch 4/10\n",
      "94/94 [==============================] - 145s 2s/step - loss: 0.6874 - accuracy: 0.7428 - val_loss: 0.7925 - val_accuracy: 0.7498\n",
      "Epoch 5/10\n",
      "94/94 [==============================] - 145s 2s/step - loss: 0.6594 - accuracy: 0.7536 - val_loss: 0.7646 - val_accuracy: 0.7562\n",
      "Epoch 6/10\n",
      "94/94 [==============================] - 144s 2s/step - loss: 0.6368 - accuracy: 0.7623 - val_loss: 0.7489 - val_accuracy: 0.7650\n",
      "Epoch 7/10\n",
      "94/94 [==============================] - 130s 1s/step - loss: 0.6186 - accuracy: 0.7691 - val_loss: 0.7340 - val_accuracy: 0.7695\n",
      "Epoch 8/10\n",
      "94/94 [==============================] - 144s 2s/step - loss: 0.6017 - accuracy: 0.7756 - val_loss: 0.7190 - val_accuracy: 0.7740\n",
      "Epoch 9/10\n",
      "94/94 [==============================] - 135s 1s/step - loss: 0.5863 - accuracy: 0.7821 - val_loss: 0.7173 - val_accuracy: 0.7780\n",
      "Epoch 10/10\n",
      "94/94 [==============================] - 145s 2s/step - loss: 0.5725 - accuracy: 0.7882 - val_loss: 0.6969 - val_accuracy: 0.7808\n"
     ]
    }
   ],
   "source": [
    "from tensorflow.keras.callbacks import ModelCheckpoint\n",
    "\n",
    "mc = ModelCheckpoint('minLossModel.h5', monitor='val_loss', mode='min', save_best_only=True)\n",
    "\n",
    "history = model.fit(\n",
    "    X_train_enc,\n",
    "    y_train_enc,\n",
    "    epochs=10,\n",
    "    batch_size=4096,\n",
    "    validation_split=0.1,\n",
    "    callbacks = [mc]\n",
    ")"
   ]
  },
  {
   "cell_type": "code",
   "execution_count": 22,
   "metadata": {},
   "outputs": [
    {
     "data": {
      "image/png": "[encoded data removed]",
      "text/plain": [
       "<Figure size 432x288 with 1 Axes>"
      ]
     },
     "metadata": {
      "needs_background": "light"
     },
     "output_type": "display_data"
    }
   ],
   "source": [
    "plt.plot(history.history['loss'])\n",
    "plt.plot(history.history['val_loss'])\n",
    "plt.legend(['train', 'validation'])\n",
    "plt.show()"
   ]
  },
  {
   "cell_type": "code",
   "execution_count": 24,
   "metadata": {},
   "outputs": [
    {
     "name": "stdout",
     "output_type": "stream",
     "text": [
      "4442/4442 [==============================] - 32s 7ms/step - loss: 0.7000 - accuracy: 0.7762\n",
      "Loss: 0.69997\n",
      "Accuracy: 0.77621\n"
     ]
    }
   ],
   "source": [
    "loss, acc = model.evaluate(X_test_enc, y_test_enc)\n",
    "print(\"Loss:\", round(loss, 5))\n",
    "print(\"Accuracy:\", round(acc, 5))"
   ]
  },
  {
   "cell_type": "code",
   "execution_count": 25,
   "metadata": {},
   "outputs": [
    {
     "data": {
      "image/png": "[encoded data removed]",
      "text/plain": [
       "<Figure size 432x288 with 1 Axes>"
      ]
     },
     "metadata": {
      "needs_background": "light"
     },
     "output_type": "display_data"
    }
   ],
   "source": [
    "plt.plot(history.history['accuracy'])\n",
    "plt.plot(history.history['val_accuracy'])\n",
    "plt.legend(['train', 'validation'])\n",
    "plt.show()"
   ]
  },
  {
   "cell_type": "markdown",
   "metadata": {},
   "source": [
    "By training the model with the full dataset, adding a `Dropout` layer and running fewer epochs, overfitting has been prevented. This can be seen from the graphs. The validation set loss is decreasing and the accuracy is increasing, meaning the model is learning and not becoming worse. "
   ]
  }
 ],
 "metadata": {
  "kernelspec": {
   "display_name": "Python 3.10.1 64-bit",
   "language": "python",
   "name": "python3"
  },
  "language_info": {
   "codemirror_mode": {
    "name": "ipython",
    "version": 3
   },
   "file_extension": ".py",
   "mimetype": "text/x-python",
   "name": "python",
   "nbconvert_exporter": "python",
   "pygments_lexer": "ipython3",
   "version": "3.10.1"
  },
  "orig_nbformat": 4,
  "vscode": {
   "interpreter": {
    "hash": "9809e28c19dfb975224638f8b8ef0f584d3176802c0e325eace288af197b9ed5"
   }
  }
 },
 "nbformat": 4,
 "nbformat_minor": 2
}
